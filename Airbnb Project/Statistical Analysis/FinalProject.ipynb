{
 "cells": [
  {
   "cell_type": "code",
   "execution_count": 1,
   "metadata": {},
   "outputs": [],
   "source": [
    "import pandas as pd\n",
    "import numpy as np\n",
    "import matplotlib.pyplot as plt\n",
    "from Functions.functions import convert_price, convert_rate"
   ]
  },
  {
   "cell_type": "code",
   "execution_count": 95,
   "metadata": {},
   "outputs": [],
   "source": [
    "AirbnbData = pd.read_csv(\"Data/airbnb_listings.csv\")"
   ]
  },
  {
   "cell_type": "code",
   "execution_count": 101,
   "metadata": {},
   "outputs": [
    {
     "data": {
      "text/plain": [
       "0        $70.00\n",
       "1        $67.00\n",
       "2        $45.00\n",
       "3        $80.00\n",
       "4       $251.00\n",
       "         ...   \n",
       "7561    $200.00\n",
       "7562     $48.00\n",
       "7563     $64.00\n",
       "7564    $240.00\n",
       "7565    $280.00\n",
       "Name: price, Length: 7566, dtype: object"
      ]
     },
     "execution_count": 101,
     "metadata": {},
     "output_type": "execute_result"
    }
   ],
   "source": [
    "AirbnbData['price']"
   ]
  },
  {
   "cell_type": "code",
   "execution_count": 102,
   "metadata": {},
   "outputs": [],
   "source": [
    "s = '$,'\n",
    "AirbnbData['price'] = AirbnbData['price'].replace('['+s+']','',regex=True).astype(float)"
   ]
  },
  {
   "cell_type": "code",
   "execution_count": 103,
   "metadata": {},
   "outputs": [
    {
     "data": {
      "text/plain": [
       "0        70.0\n",
       "1        67.0\n",
       "2        45.0\n",
       "3        80.0\n",
       "4       251.0\n",
       "        ...  \n",
       "7561    200.0\n",
       "7562     48.0\n",
       "7563     64.0\n",
       "7564    240.0\n",
       "7565    280.0\n",
       "Name: price, Length: 7566, dtype: float64"
      ]
     },
     "execution_count": 103,
     "metadata": {},
     "output_type": "execute_result"
    }
   ],
   "source": [
    "AirbnbData['price']"
   ]
  },
  {
   "cell_type": "code",
   "execution_count": 3,
   "metadata": {},
   "outputs": [],
   "source": [
    "# Effect of Amenities on Price\n",
    "amenities = ['amenities', 'price']\n",
    "\n",
    "# Minimum Nights Requirement and Its Effect on Booking Rate\n",
    "booking_rate = ['minimum_nights', 'number_of_reviews_ltm', 'availability_365']\n",
    "\n",
    "# Impact of Property Type and Room Type on Price and Review Scores\n",
    "property = ['property_type', 'room_type', 'price', 'review_scores_rating']\n",
    "\n",
    "# Effect of Number of Reviews on Future Availability\n",
    "future_availability = ['number_of_reviews', 'availability_365']\n",
    "\n",
    "# Impact of Superhost Status on Price and Occupancy Rates\n",
    "superhost = ['host_is_superhost', 'price', 'availability_365']\n",
    "\n",
    "# Seasonal Trends in Booking and Reviews\n",
    "booking_reviews = ['last_review', 'availability_365', 'number_of_reviews']"
   ]
  },
  {
   "cell_type": "code",
   "execution_count": 4,
   "metadata": {},
   "outputs": [],
   "source": [
    "features = ['id','description','neighborhood_overview','host_location','host_response_time','host_response_rate','host_acceptance_rate',\n",
    "            'host_is_superhost','host_neighbourhood','host_verifications','host_identity_verified','neighbourhood_cleansed',\n",
    "            'latitude','longitude','property_type','room_type','accommodates','bathrooms_text','bedrooms','beds','amenities','price',\n",
    "            'minimum_nights','maximum_nights','minimum_minimum_nights','maximum_minimum_nights','minimum_maximum_nights','maximum_maximum_nights',\n",
    "            'minimum_nights_avg_ntm','maximum_nights_avg_ntm','has_availability','availability_30','availability_60','availability_90',\n",
    "            'availability_365','number_of_reviews','number_of_reviews_ltm','number_of_reviews_l30d','review_scores_rating','review_scores_accuracy',\n",
    "            'review_scores_cleanliness','review_scores_checkin','review_scores_communication','review_scores_location','review_scores_value',\n",
    "            'instant_bookable','reviews_per_month']"
   ]
  },
  {
   "cell_type": "code",
   "execution_count": 5,
   "metadata": {},
   "outputs": [],
   "source": [
    "features_g1 = features[:10] #0 to 9\n",
    "features_g2 = features[10:20] #10 to 19\n",
    "features_g3 = features[20:30] #20 to 29\n",
    "features_g4 = features[30:40] #30 to 39\n",
    "features_g5 = features[40:] #40 to 47"
   ]
  },
  {
   "cell_type": "markdown",
   "metadata": {},
   "source": [
    "## **Cleaning the variables for the second part**"
   ]
  },
  {
   "cell_type": "markdown",
   "metadata": {},
   "source": [
    "### First features group"
   ]
  },
  {
   "cell_type": "code",
   "execution_count": 6,
   "metadata": {},
   "outputs": [
    {
     "name": "stdout",
     "output_type": "stream",
     "text": [
      "<class 'pandas.core.frame.DataFrame'>\n",
      "RangeIndex: 7566 entries, 0 to 7565\n",
      "Data columns (total 10 columns):\n",
      " #   Column                 Non-Null Count  Dtype \n",
      "---  ------                 --------------  ----- \n",
      " 0   id                     7566 non-null   int64 \n",
      " 1   description            7411 non-null   object\n",
      " 2   neighborhood_overview  4194 non-null   object\n",
      " 3   host_location          6232 non-null   object\n",
      " 4   host_response_time     3932 non-null   object\n",
      " 5   host_response_rate     3932 non-null   object\n",
      " 6   host_acceptance_rate   4191 non-null   object\n",
      " 7   host_is_superhost      7566 non-null   object\n",
      " 8   host_neighbourhood     5234 non-null   object\n",
      " 9   host_verifications     7566 non-null   object\n",
      "dtypes: int64(1), object(9)\n",
      "memory usage: 591.2+ KB\n"
     ]
    }
   ],
   "source": [
    "# First features group\n",
    "AirbnbData[features_g1].info()"
   ]
  },
  {
   "cell_type": "code",
   "execution_count": 7,
   "metadata": {},
   "outputs": [
    {
     "data": {
      "text/plain": [
       "id                          0\n",
       "description               155\n",
       "neighborhood_overview    3372\n",
       "host_location            1334\n",
       "host_response_time       3634\n",
       "host_response_rate       3634\n",
       "host_acceptance_rate     3375\n",
       "host_is_superhost           0\n",
       "host_neighbourhood       2332\n",
       "host_verifications          0\n",
       "dtype: int64"
      ]
     },
     "execution_count": 7,
     "metadata": {},
     "output_type": "execute_result"
    }
   ],
   "source": [
    "AirbnbData[features_g1].isna().sum()"
   ]
  },
  {
   "cell_type": "code",
   "execution_count": 8,
   "metadata": {},
   "outputs": [],
   "source": [
    "# Making a copy for working with the first group\n",
    "features_g1DF = AirbnbData[features_g1].copy()"
   ]
  },
  {
   "cell_type": "code",
   "execution_count": 9,
   "metadata": {},
   "outputs": [],
   "source": [
    "features_g1DF.fillna({'description':'No comments'}, inplace=True)\n",
    "features_g1DF.fillna({'neighborhood_overview':'No comments'}, inplace=True)\n",
    "features_g1DF.fillna({'host_location':'No location'}, inplace=True)"
   ]
  },
  {
   "cell_type": "code",
   "execution_count": 10,
   "metadata": {},
   "outputs": [
    {
     "data": {
      "text/plain": [
       "host_response_time\n",
       "within an hour        2628\n",
       "within a few hours     748\n",
       "within a day           465\n",
       "a few days or more      91\n",
       "Name: count, dtype: int64"
      ]
     },
     "execution_count": 10,
     "metadata": {},
     "output_type": "execute_result"
    }
   ],
   "source": [
    "features_g1DF.host_response_time.value_counts()"
   ]
  },
  {
   "cell_type": "code",
   "execution_count": 11,
   "metadata": {},
   "outputs": [],
   "source": [
    "# Setting the null value with the most common value\n",
    "features_g1DF.fillna({'host_response_time':'within an hour'}, inplace=True)"
   ]
  },
  {
   "cell_type": "code",
   "execution_count": 12,
   "metadata": {},
   "outputs": [],
   "source": [
    "features_g1DF['host_response_rate'] = convert_rate(features_g1DF,'host_response_rate')\n",
    "features_g1DF['host_acceptance_rate'] = convert_rate(features_g1DF,'host_acceptance_rate')\n",
    "\n",
    "# Replacing the null values for the mean rate\n",
    "features_g1DF.fillna({'host_response_rate': round(features_g1DF['host_response_rate'].mean(),4)}, inplace=True)\n",
    "features_g1DF.fillna({'host_acceptance_rate': round(features_g1DF['host_acceptance_rate'].mean(),4)}, inplace=True)"
   ]
  },
  {
   "cell_type": "code",
   "execution_count": 13,
   "metadata": {},
   "outputs": [],
   "source": [
    "features_g1DF.fillna({'host_neighbourhood':'No location'}, inplace=True)"
   ]
  },
  {
   "cell_type": "code",
   "execution_count": 14,
   "metadata": {},
   "outputs": [
    {
     "data": {
      "text/plain": [
       "id                       0\n",
       "description              0\n",
       "neighborhood_overview    0\n",
       "host_location            0\n",
       "host_response_time       0\n",
       "host_response_rate       0\n",
       "host_acceptance_rate     0\n",
       "host_is_superhost        0\n",
       "host_neighbourhood       0\n",
       "host_verifications       0\n",
       "dtype: int64"
      ]
     },
     "execution_count": 14,
     "metadata": {},
     "output_type": "execute_result"
    }
   ],
   "source": [
    "features_g1DF.isna().sum()"
   ]
  },
  {
   "cell_type": "markdown",
   "metadata": {},
   "source": [
    "### Second features group"
   ]
  },
  {
   "cell_type": "code",
   "execution_count": 15,
   "metadata": {},
   "outputs": [
    {
     "name": "stdout",
     "output_type": "stream",
     "text": [
      "<class 'pandas.core.frame.DataFrame'>\n",
      "RangeIndex: 7566 entries, 0 to 7565\n",
      "Data columns (total 10 columns):\n",
      " #   Column                  Non-Null Count  Dtype  \n",
      "---  ------                  --------------  -----  \n",
      " 0   host_identity_verified  7566 non-null   object \n",
      " 1   neighbourhood_cleansed  7566 non-null   object \n",
      " 2   latitude                7566 non-null   float64\n",
      " 3   longitude               7566 non-null   float64\n",
      " 4   property_type           7566 non-null   object \n",
      " 5   room_type               7566 non-null   object \n",
      " 6   accommodates            7566 non-null   int64  \n",
      " 7   bathrooms_text          7562 non-null   object \n",
      " 8   bedrooms                7361 non-null   float64\n",
      " 9   beds                    7472 non-null   float64\n",
      "dtypes: float64(4), int64(1), object(5)\n",
      "memory usage: 591.2+ KB\n"
     ]
    }
   ],
   "source": [
    "AirbnbData[features_g2].info()"
   ]
  },
  {
   "cell_type": "code",
   "execution_count": 16,
   "metadata": {},
   "outputs": [
    {
     "data": {
      "text/plain": [
       "host_identity_verified      0\n",
       "neighbourhood_cleansed      0\n",
       "latitude                    0\n",
       "longitude                   0\n",
       "property_type               0\n",
       "room_type                   0\n",
       "accommodates                0\n",
       "bathrooms_text              4\n",
       "bedrooms                  205\n",
       "beds                       94\n",
       "dtype: int64"
      ]
     },
     "execution_count": 16,
     "metadata": {},
     "output_type": "execute_result"
    }
   ],
   "source": [
    "AirbnbData[features_g2].isna().sum()"
   ]
  },
  {
   "cell_type": "code",
   "execution_count": 17,
   "metadata": {},
   "outputs": [],
   "source": [
    "features_g2DF = AirbnbData[features_g2].copy()"
   ]
  },
  {
   "cell_type": "code",
   "execution_count": 18,
   "metadata": {},
   "outputs": [
    {
     "data": {
      "text/plain": [
       "bathrooms_text\n",
       "1 bath               2581\n",
       "1 shared bath        1495\n",
       "1 private bath        978\n",
       "2 baths               851\n",
       "1.5 baths             569\n",
       "1.5 shared baths      307\n",
       "2.5 baths             275\n",
       "3 baths               145\n",
       "2 shared baths        121\n",
       "3.5 baths              58\n",
       "4 baths                37\n",
       "2.5 shared baths       31\n",
       "0 shared baths         19\n",
       "0 baths                18\n",
       "3 shared baths         16\n",
       "4.5 baths              14\n",
       "Shared half-bath       10\n",
       "Half-bath               8\n",
       "5 baths                 7\n",
       "Private half-bath       4\n",
       "3.5 shared baths        4\n",
       "5.5 baths               3\n",
       "4 shared baths          2\n",
       "6 baths                 2\n",
       "9.5 baths               1\n",
       "7.5 baths               1\n",
       "8.5 baths               1\n",
       "6 shared baths          1\n",
       "8 baths                 1\n",
       "7 baths                 1\n",
       "6.5 baths               1\n",
       "Name: count, dtype: int64"
      ]
     },
     "execution_count": 18,
     "metadata": {},
     "output_type": "execute_result"
    }
   ],
   "source": [
    "features_g2DF.bathrooms_text.value_counts()"
   ]
  },
  {
   "cell_type": "markdown",
   "metadata": {},
   "source": [
    "## **Cleaning the variables for doing the trends**"
   ]
  },
  {
   "cell_type": "markdown",
   "metadata": {},
   "source": [
    "### Amenities"
   ]
  },
  {
   "cell_type": "code",
   "execution_count": 19,
   "metadata": {},
   "outputs": [
    {
     "data": {
      "text/plain": [
       "amenities    0\n",
       "price        0\n",
       "dtype: int64"
      ]
     },
     "execution_count": 19,
     "metadata": {},
     "output_type": "execute_result"
    }
   ],
   "source": [
    "# Checking null values\n",
    "AirbnbData.loc[:,amenities].isna().sum()"
   ]
  },
  {
   "cell_type": "code",
   "execution_count": 20,
   "metadata": {},
   "outputs": [],
   "source": [
    "# Assigning the variable for creating the trend\n",
    "amenitiesDF = AirbnbData.loc[:,amenities]"
   ]
  },
  {
   "cell_type": "code",
   "execution_count": 21,
   "metadata": {},
   "outputs": [
    {
     "data": {
      "text/plain": [
       "count     7566.000000\n",
       "mean       182.327953\n",
       "std       1170.750214\n",
       "min         10.000000\n",
       "25%         65.000000\n",
       "50%        105.000000\n",
       "75%        192.750000\n",
       "max      99149.000000\n",
       "Name: price, dtype: float64"
      ]
     },
     "execution_count": 21,
     "metadata": {},
     "output_type": "execute_result"
    }
   ],
   "source": [
    "#Transforming data type prices\n",
    "\n",
    "amenitiesDF['price'] = convert_price(amenitiesDF,'price')\n",
    "amenitiesDF['price'].describe().T"
   ]
  },
  {
   "cell_type": "code",
   "execution_count": 22,
   "metadata": {},
   "outputs": [
    {
     "data": {
      "text/html": [
       "<div>\n",
       "<style scoped>\n",
       "    .dataframe tbody tr th:only-of-type {\n",
       "        vertical-align: middle;\n",
       "    }\n",
       "\n",
       "    .dataframe tbody tr th {\n",
       "        vertical-align: top;\n",
       "    }\n",
       "\n",
       "    .dataframe thead th {\n",
       "        text-align: right;\n",
       "    }\n",
       "</style>\n",
       "<table border=\"1\" class=\"dataframe\">\n",
       "  <thead>\n",
       "    <tr style=\"text-align: right;\">\n",
       "      <th></th>\n",
       "      <th>amenities</th>\n",
       "      <th>price</th>\n",
       "    </tr>\n",
       "  </thead>\n",
       "  <tbody>\n",
       "    <tr>\n",
       "      <th>0</th>\n",
       "      <td>[\"Oven\", \"Hot water kettle\", \"Fire extinguishe...</td>\n",
       "      <td>70.0</td>\n",
       "    </tr>\n",
       "    <tr>\n",
       "      <th>1</th>\n",
       "      <td>[\"Oven\", \"Fire extinguisher\", \"Dryer\", \"Hanger...</td>\n",
       "      <td>67.0</td>\n",
       "    </tr>\n",
       "    <tr>\n",
       "      <th>2</th>\n",
       "      <td>[\"Oven\", \"Fire extinguisher\", \"Hangers\", \"Carb...</td>\n",
       "      <td>45.0</td>\n",
       "    </tr>\n",
       "    <tr>\n",
       "      <th>3</th>\n",
       "      <td>[\"Oven\", \"Hot water kettle\", \"Fire extinguishe...</td>\n",
       "      <td>80.0</td>\n",
       "    </tr>\n",
       "    <tr>\n",
       "      <th>4</th>\n",
       "      <td>[\"Fire extinguisher\", \"Dryer\", \"Hangers\", \"Ind...</td>\n",
       "      <td>251.0</td>\n",
       "    </tr>\n",
       "    <tr>\n",
       "      <th>...</th>\n",
       "      <td>...</td>\n",
       "      <td>...</td>\n",
       "    </tr>\n",
       "    <tr>\n",
       "      <th>7561</th>\n",
       "      <td>[\"TV\", \"Lock on bedroom door\", \"Security camer...</td>\n",
       "      <td>200.0</td>\n",
       "    </tr>\n",
       "    <tr>\n",
       "      <th>7562</th>\n",
       "      <td>[\"Essentials\", \"Wifi\", \"Hair dryer\", \"Free par...</td>\n",
       "      <td>48.0</td>\n",
       "    </tr>\n",
       "    <tr>\n",
       "      <th>7563</th>\n",
       "      <td>[\"Oven\", \"Fire extinguisher\", \"Dryer\", \"Hanger...</td>\n",
       "      <td>64.0</td>\n",
       "    </tr>\n",
       "    <tr>\n",
       "      <th>7564</th>\n",
       "      <td>[\"Hot water kettle\", \"Free washer\", \"HDTV\", \"O...</td>\n",
       "      <td>240.0</td>\n",
       "    </tr>\n",
       "    <tr>\n",
       "      <th>7565</th>\n",
       "      <td>[\"Wifi\", \"Long term stays allowed\"]</td>\n",
       "      <td>280.0</td>\n",
       "    </tr>\n",
       "  </tbody>\n",
       "</table>\n",
       "<p>7566 rows × 2 columns</p>\n",
       "</div>"
      ],
      "text/plain": [
       "                                              amenities  price\n",
       "0     [\"Oven\", \"Hot water kettle\", \"Fire extinguishe...   70.0\n",
       "1     [\"Oven\", \"Fire extinguisher\", \"Dryer\", \"Hanger...   67.0\n",
       "2     [\"Oven\", \"Fire extinguisher\", \"Hangers\", \"Carb...   45.0\n",
       "3     [\"Oven\", \"Hot water kettle\", \"Fire extinguishe...   80.0\n",
       "4     [\"Fire extinguisher\", \"Dryer\", \"Hangers\", \"Ind...  251.0\n",
       "...                                                 ...    ...\n",
       "7561  [\"TV\", \"Lock on bedroom door\", \"Security camer...  200.0\n",
       "7562  [\"Essentials\", \"Wifi\", \"Hair dryer\", \"Free par...   48.0\n",
       "7563  [\"Oven\", \"Fire extinguisher\", \"Dryer\", \"Hanger...   64.0\n",
       "7564  [\"Hot water kettle\", \"Free washer\", \"HDTV\", \"O...  240.0\n",
       "7565                [\"Wifi\", \"Long term stays allowed\"]  280.0\n",
       "\n",
       "[7566 rows x 2 columns]"
      ]
     },
     "execution_count": 22,
     "metadata": {},
     "output_type": "execute_result"
    }
   ],
   "source": [
    "amenitiesDF"
   ]
  },
  {
   "cell_type": "markdown",
   "metadata": {},
   "source": [
    "### Booking rate"
   ]
  },
  {
   "cell_type": "code",
   "execution_count": 23,
   "metadata": {},
   "outputs": [
    {
     "name": "stdout",
     "output_type": "stream",
     "text": [
      "<class 'pandas.core.frame.DataFrame'>\n",
      "RangeIndex: 7566 entries, 0 to 7565\n",
      "Data columns (total 3 columns):\n",
      " #   Column                 Non-Null Count  Dtype\n",
      "---  ------                 --------------  -----\n",
      " 0   minimum_nights         7566 non-null   int64\n",
      " 1   number_of_reviews_ltm  7566 non-null   int64\n",
      " 2   availability_365       7566 non-null   int64\n",
      "dtypes: int64(3)\n",
      "memory usage: 177.5 KB\n"
     ]
    }
   ],
   "source": [
    "AirbnbData.loc[:,booking_rate].info()"
   ]
  },
  {
   "cell_type": "code",
   "execution_count": 24,
   "metadata": {},
   "outputs": [
    {
     "data": {
      "text/plain": [
       "minimum_nights           0\n",
       "number_of_reviews_ltm    0\n",
       "availability_365         0\n",
       "dtype: int64"
      ]
     },
     "execution_count": 24,
     "metadata": {},
     "output_type": "execute_result"
    }
   ],
   "source": [
    "AirbnbData.loc[:,booking_rate].isna().sum()"
   ]
  },
  {
   "cell_type": "code",
   "execution_count": 25,
   "metadata": {},
   "outputs": [
    {
     "data": {
      "text/html": [
       "<div>\n",
       "<style scoped>\n",
       "    .dataframe tbody tr th:only-of-type {\n",
       "        vertical-align: middle;\n",
       "    }\n",
       "\n",
       "    .dataframe tbody tr th {\n",
       "        vertical-align: top;\n",
       "    }\n",
       "\n",
       "    .dataframe thead th {\n",
       "        text-align: right;\n",
       "    }\n",
       "</style>\n",
       "<table border=\"1\" class=\"dataframe\">\n",
       "  <thead>\n",
       "    <tr style=\"text-align: right;\">\n",
       "      <th></th>\n",
       "      <th>minimum_nights</th>\n",
       "      <th>number_of_reviews_ltm</th>\n",
       "      <th>availability_365</th>\n",
       "    </tr>\n",
       "  </thead>\n",
       "  <tbody>\n",
       "    <tr>\n",
       "      <th>0</th>\n",
       "      <td>3</td>\n",
       "      <td>31</td>\n",
       "      <td>104</td>\n",
       "    </tr>\n",
       "    <tr>\n",
       "      <th>1</th>\n",
       "      <td>3</td>\n",
       "      <td>28</td>\n",
       "      <td>110</td>\n",
       "    </tr>\n",
       "    <tr>\n",
       "      <th>2</th>\n",
       "      <td>2</td>\n",
       "      <td>44</td>\n",
       "      <td>290</td>\n",
       "    </tr>\n",
       "    <tr>\n",
       "      <th>3</th>\n",
       "      <td>1</td>\n",
       "      <td>41</td>\n",
       "      <td>74</td>\n",
       "    </tr>\n",
       "    <tr>\n",
       "      <th>4</th>\n",
       "      <td>3</td>\n",
       "      <td>17</td>\n",
       "      <td>31</td>\n",
       "    </tr>\n",
       "  </tbody>\n",
       "</table>\n",
       "</div>"
      ],
      "text/plain": [
       "   minimum_nights  number_of_reviews_ltm  availability_365\n",
       "0               3                     31               104\n",
       "1               3                     28               110\n",
       "2               2                     44               290\n",
       "3               1                     41                74\n",
       "4               3                     17                31"
      ]
     },
     "execution_count": 25,
     "metadata": {},
     "output_type": "execute_result"
    }
   ],
   "source": [
    "# Assigning the variable for creating the trend\n",
    "\n",
    "booking_rateDF = AirbnbData.loc[:,booking_rate]\n",
    "booking_rateDF.head()"
   ]
  },
  {
   "cell_type": "markdown",
   "metadata": {},
   "source": [
    "### Property"
   ]
  },
  {
   "cell_type": "code",
   "execution_count": 26,
   "metadata": {},
   "outputs": [
    {
     "name": "stdout",
     "output_type": "stream",
     "text": [
      "<class 'pandas.core.frame.DataFrame'>\n",
      "RangeIndex: 7566 entries, 0 to 7565\n",
      "Data columns (total 4 columns):\n",
      " #   Column                Non-Null Count  Dtype  \n",
      "---  ------                --------------  -----  \n",
      " 0   property_type         7566 non-null   object \n",
      " 1   room_type             7566 non-null   object \n",
      " 2   price                 7566 non-null   object \n",
      " 3   review_scores_rating  6209 non-null   float64\n",
      "dtypes: float64(1), object(3)\n",
      "memory usage: 236.6+ KB\n"
     ]
    }
   ],
   "source": [
    "AirbnbData.loc[:,property].info()"
   ]
  },
  {
   "cell_type": "code",
   "execution_count": 27,
   "metadata": {},
   "outputs": [
    {
     "data": {
      "text/plain": [
       "property_type              0\n",
       "room_type                  0\n",
       "price                      0\n",
       "review_scores_rating    1357\n",
       "dtype: int64"
      ]
     },
     "execution_count": 27,
     "metadata": {},
     "output_type": "execute_result"
    }
   ],
   "source": [
    "AirbnbData.loc[:,property].isna().sum()"
   ]
  },
  {
   "cell_type": "code",
   "execution_count": 28,
   "metadata": {},
   "outputs": [],
   "source": [
    "# Assigning the variable for creating the trend\n",
    "propertyDF = AirbnbData.loc[:,property]"
   ]
  },
  {
   "cell_type": "code",
   "execution_count": 29,
   "metadata": {},
   "outputs": [
    {
     "data": {
      "text/plain": [
       "count    6209.000000\n",
       "mean        4.603239\n",
       "std         0.771441\n",
       "min         0.000000\n",
       "25%         4.560000\n",
       "50%         4.810000\n",
       "75%         5.000000\n",
       "max         5.000000\n",
       "Name: review_scores_rating, dtype: float64"
      ]
     },
     "execution_count": 29,
     "metadata": {},
     "output_type": "execute_result"
    }
   ],
   "source": [
    "propertyDF.review_scores_rating.describe()"
   ]
  },
  {
   "cell_type": "code",
   "execution_count": 30,
   "metadata": {},
   "outputs": [],
   "source": [
    "# Replacing the null values with the mean\n",
    "propertyDF.fillna({'review_scores_rating':round(propertyDF['review_scores_rating'].mean(),2)}, inplace=True)"
   ]
  },
  {
   "cell_type": "code",
   "execution_count": 31,
   "metadata": {},
   "outputs": [],
   "source": [
    "propertyDF['price'] = convert_price(propertyDF,'price')"
   ]
  },
  {
   "cell_type": "code",
   "execution_count": 32,
   "metadata": {},
   "outputs": [
    {
     "data": {
      "text/plain": [
       "property_type           0\n",
       "room_type               0\n",
       "price                   0\n",
       "review_scores_rating    0\n",
       "dtype: int64"
      ]
     },
     "execution_count": 32,
     "metadata": {},
     "output_type": "execute_result"
    }
   ],
   "source": [
    "propertyDF.isna().sum()"
   ]
  },
  {
   "cell_type": "code",
   "execution_count": 33,
   "metadata": {},
   "outputs": [
    {
     "data": {
      "text/html": [
       "<div>\n",
       "<style scoped>\n",
       "    .dataframe tbody tr th:only-of-type {\n",
       "        vertical-align: middle;\n",
       "    }\n",
       "\n",
       "    .dataframe tbody tr th {\n",
       "        vertical-align: top;\n",
       "    }\n",
       "\n",
       "    .dataframe thead th {\n",
       "        text-align: right;\n",
       "    }\n",
       "</style>\n",
       "<table border=\"1\" class=\"dataframe\">\n",
       "  <thead>\n",
       "    <tr style=\"text-align: right;\">\n",
       "      <th></th>\n",
       "      <th>property_type</th>\n",
       "      <th>room_type</th>\n",
       "      <th>price</th>\n",
       "      <th>review_scores_rating</th>\n",
       "    </tr>\n",
       "  </thead>\n",
       "  <tbody>\n",
       "    <tr>\n",
       "      <th>0</th>\n",
       "      <td>Private room in bungalow</td>\n",
       "      <td>Private room</td>\n",
       "      <td>70.0</td>\n",
       "      <td>4.78</td>\n",
       "    </tr>\n",
       "    <tr>\n",
       "      <th>1</th>\n",
       "      <td>Private room in bungalow</td>\n",
       "      <td>Private room</td>\n",
       "      <td>67.0</td>\n",
       "      <td>4.79</td>\n",
       "    </tr>\n",
       "    <tr>\n",
       "      <th>2</th>\n",
       "      <td>Private room in home</td>\n",
       "      <td>Private room</td>\n",
       "      <td>45.0</td>\n",
       "      <td>4.74</td>\n",
       "    </tr>\n",
       "    <tr>\n",
       "      <th>3</th>\n",
       "      <td>Private room in townhouse</td>\n",
       "      <td>Private room</td>\n",
       "      <td>80.0</td>\n",
       "      <td>4.84</td>\n",
       "    </tr>\n",
       "    <tr>\n",
       "      <th>4</th>\n",
       "      <td>Entire rental unit</td>\n",
       "      <td>Entire home/apt</td>\n",
       "      <td>251.0</td>\n",
       "      <td>4.63</td>\n",
       "    </tr>\n",
       "  </tbody>\n",
       "</table>\n",
       "</div>"
      ],
      "text/plain": [
       "               property_type        room_type  price  review_scores_rating\n",
       "0   Private room in bungalow     Private room   70.0                  4.78\n",
       "1   Private room in bungalow     Private room   67.0                  4.79\n",
       "2       Private room in home     Private room   45.0                  4.74\n",
       "3  Private room in townhouse     Private room   80.0                  4.84\n",
       "4         Entire rental unit  Entire home/apt  251.0                  4.63"
      ]
     },
     "execution_count": 33,
     "metadata": {},
     "output_type": "execute_result"
    }
   ],
   "source": [
    "propertyDF.head()"
   ]
  },
  {
   "cell_type": "markdown",
   "metadata": {},
   "source": [
    "### Future Availability"
   ]
  },
  {
   "cell_type": "code",
   "execution_count": 34,
   "metadata": {},
   "outputs": [
    {
     "name": "stdout",
     "output_type": "stream",
     "text": [
      "<class 'pandas.core.frame.DataFrame'>\n",
      "RangeIndex: 7566 entries, 0 to 7565\n",
      "Data columns (total 2 columns):\n",
      " #   Column             Non-Null Count  Dtype\n",
      "---  ------             --------------  -----\n",
      " 0   number_of_reviews  7566 non-null   int64\n",
      " 1   availability_365   7566 non-null   int64\n",
      "dtypes: int64(2)\n",
      "memory usage: 118.3 KB\n"
     ]
    }
   ],
   "source": [
    "AirbnbData.loc[:,future_availability].info()"
   ]
  },
  {
   "cell_type": "code",
   "execution_count": 35,
   "metadata": {},
   "outputs": [
    {
     "data": {
      "text/plain": [
       "number_of_reviews    0\n",
       "availability_365     0\n",
       "dtype: int64"
      ]
     },
     "execution_count": 35,
     "metadata": {},
     "output_type": "execute_result"
    }
   ],
   "source": [
    "AirbnbData.loc[:,future_availability].isna().sum()"
   ]
  },
  {
   "cell_type": "code",
   "execution_count": 36,
   "metadata": {},
   "outputs": [],
   "source": [
    "future_availabilityDF = AirbnbData.loc[:,future_availability]"
   ]
  },
  {
   "cell_type": "code",
   "execution_count": 37,
   "metadata": {},
   "outputs": [
    {
     "data": {
      "text/html": [
       "<div>\n",
       "<style scoped>\n",
       "    .dataframe tbody tr th:only-of-type {\n",
       "        vertical-align: middle;\n",
       "    }\n",
       "\n",
       "    .dataframe tbody tr th {\n",
       "        vertical-align: top;\n",
       "    }\n",
       "\n",
       "    .dataframe thead th {\n",
       "        text-align: right;\n",
       "    }\n",
       "</style>\n",
       "<table border=\"1\" class=\"dataframe\">\n",
       "  <thead>\n",
       "    <tr style=\"text-align: right;\">\n",
       "      <th></th>\n",
       "      <th>number_of_reviews</th>\n",
       "      <th>availability_365</th>\n",
       "    </tr>\n",
       "  </thead>\n",
       "  <tbody>\n",
       "    <tr>\n",
       "      <th>0</th>\n",
       "      <td>258</td>\n",
       "      <td>104</td>\n",
       "    </tr>\n",
       "    <tr>\n",
       "      <th>1</th>\n",
       "      <td>210</td>\n",
       "      <td>110</td>\n",
       "    </tr>\n",
       "    <tr>\n",
       "      <th>2</th>\n",
       "      <td>355</td>\n",
       "      <td>290</td>\n",
       "    </tr>\n",
       "    <tr>\n",
       "      <th>3</th>\n",
       "      <td>326</td>\n",
       "      <td>74</td>\n",
       "    </tr>\n",
       "    <tr>\n",
       "      <th>4</th>\n",
       "      <td>64</td>\n",
       "      <td>31</td>\n",
       "    </tr>\n",
       "  </tbody>\n",
       "</table>\n",
       "</div>"
      ],
      "text/plain": [
       "   number_of_reviews  availability_365\n",
       "0                258               104\n",
       "1                210               110\n",
       "2                355               290\n",
       "3                326                74\n",
       "4                 64                31"
      ]
     },
     "execution_count": 37,
     "metadata": {},
     "output_type": "execute_result"
    }
   ],
   "source": [
    "future_availabilityDF.head()"
   ]
  },
  {
   "cell_type": "markdown",
   "metadata": {},
   "source": [
    "### Superhost"
   ]
  },
  {
   "cell_type": "code",
   "execution_count": 38,
   "metadata": {},
   "outputs": [
    {
     "name": "stdout",
     "output_type": "stream",
     "text": [
      "<class 'pandas.core.frame.DataFrame'>\n",
      "RangeIndex: 7566 entries, 0 to 7565\n",
      "Data columns (total 3 columns):\n",
      " #   Column             Non-Null Count  Dtype \n",
      "---  ------             --------------  ----- \n",
      " 0   host_is_superhost  7566 non-null   object\n",
      " 1   price              7566 non-null   object\n",
      " 2   availability_365   7566 non-null   int64 \n",
      "dtypes: int64(1), object(2)\n",
      "memory usage: 177.5+ KB\n"
     ]
    }
   ],
   "source": [
    "AirbnbData.loc[:,superhost].info()"
   ]
  },
  {
   "cell_type": "code",
   "execution_count": 39,
   "metadata": {},
   "outputs": [
    {
     "data": {
      "text/plain": [
       "host_is_superhost    0\n",
       "price                0\n",
       "availability_365     0\n",
       "dtype: int64"
      ]
     },
     "execution_count": 39,
     "metadata": {},
     "output_type": "execute_result"
    }
   ],
   "source": [
    "AirbnbData.loc[:,superhost].isna().sum()"
   ]
  },
  {
   "cell_type": "code",
   "execution_count": 40,
   "metadata": {},
   "outputs": [],
   "source": [
    "superhostDF = AirbnbData.loc[:,superhost]"
   ]
  },
  {
   "cell_type": "code",
   "execution_count": 41,
   "metadata": {},
   "outputs": [],
   "source": [
    "superhostDF['price'] = convert_price(superhostDF,'price')"
   ]
  },
  {
   "cell_type": "code",
   "execution_count": 42,
   "metadata": {},
   "outputs": [
    {
     "data": {
      "text/html": [
       "<div>\n",
       "<style scoped>\n",
       "    .dataframe tbody tr th:only-of-type {\n",
       "        vertical-align: middle;\n",
       "    }\n",
       "\n",
       "    .dataframe tbody tr th {\n",
       "        vertical-align: top;\n",
       "    }\n",
       "\n",
       "    .dataframe thead th {\n",
       "        text-align: right;\n",
       "    }\n",
       "</style>\n",
       "<table border=\"1\" class=\"dataframe\">\n",
       "  <thead>\n",
       "    <tr style=\"text-align: right;\">\n",
       "      <th></th>\n",
       "      <th>host_is_superhost</th>\n",
       "      <th>price</th>\n",
       "      <th>availability_365</th>\n",
       "    </tr>\n",
       "  </thead>\n",
       "  <tbody>\n",
       "    <tr>\n",
       "      <th>0</th>\n",
       "      <td>t</td>\n",
       "      <td>70.0</td>\n",
       "      <td>104</td>\n",
       "    </tr>\n",
       "    <tr>\n",
       "      <th>1</th>\n",
       "      <td>t</td>\n",
       "      <td>67.0</td>\n",
       "      <td>110</td>\n",
       "    </tr>\n",
       "    <tr>\n",
       "      <th>2</th>\n",
       "      <td>f</td>\n",
       "      <td>45.0</td>\n",
       "      <td>290</td>\n",
       "    </tr>\n",
       "    <tr>\n",
       "      <th>3</th>\n",
       "      <td>t</td>\n",
       "      <td>80.0</td>\n",
       "      <td>74</td>\n",
       "    </tr>\n",
       "    <tr>\n",
       "      <th>4</th>\n",
       "      <td>f</td>\n",
       "      <td>251.0</td>\n",
       "      <td>31</td>\n",
       "    </tr>\n",
       "  </tbody>\n",
       "</table>\n",
       "</div>"
      ],
      "text/plain": [
       "  host_is_superhost  price  availability_365\n",
       "0                 t   70.0               104\n",
       "1                 t   67.0               110\n",
       "2                 f   45.0               290\n",
       "3                 t   80.0                74\n",
       "4                 f  251.0                31"
      ]
     },
     "execution_count": 42,
     "metadata": {},
     "output_type": "execute_result"
    }
   ],
   "source": [
    "superhostDF.head()"
   ]
  },
  {
   "cell_type": "markdown",
   "metadata": {},
   "source": [
    "### Booking review"
   ]
  },
  {
   "cell_type": "code",
   "execution_count": 43,
   "metadata": {},
   "outputs": [
    {
     "name": "stdout",
     "output_type": "stream",
     "text": [
      "<class 'pandas.core.frame.DataFrame'>\n",
      "RangeIndex: 7566 entries, 0 to 7565\n",
      "Data columns (total 3 columns):\n",
      " #   Column             Non-Null Count  Dtype \n",
      "---  ------             --------------  ----- \n",
      " 0   last_review        6209 non-null   object\n",
      " 1   availability_365   7566 non-null   int64 \n",
      " 2   number_of_reviews  7566 non-null   int64 \n",
      "dtypes: int64(2), object(1)\n",
      "memory usage: 177.5+ KB\n"
     ]
    }
   ],
   "source": [
    "AirbnbData.loc[:,booking_reviews].info()"
   ]
  },
  {
   "cell_type": "code",
   "execution_count": 44,
   "metadata": {},
   "outputs": [
    {
     "data": {
      "text/plain": [
       "last_review          1357\n",
       "availability_365        0\n",
       "number_of_reviews       0\n",
       "dtype: int64"
      ]
     },
     "execution_count": 44,
     "metadata": {},
     "output_type": "execute_result"
    }
   ],
   "source": [
    "AirbnbData.loc[:,booking_reviews].isna().sum()"
   ]
  },
  {
   "cell_type": "code",
   "execution_count": 45,
   "metadata": {},
   "outputs": [],
   "source": [
    "booking_reviewsDF = AirbnbData.loc[:,booking_reviews]"
   ]
  },
  {
   "cell_type": "code",
   "execution_count": 46,
   "metadata": {},
   "outputs": [
    {
     "data": {
      "text/plain": [
       "last_review\n",
       "2022-08-28    196\n",
       "2022-09-11    171\n",
       "2022-09-10    157\n",
       "2022-09-04    136\n",
       "2022-08-29    117\n",
       "             ... \n",
       "2018-08-09      1\n",
       "2020-08-05      1\n",
       "2016-12-23      1\n",
       "2017-04-09      1\n",
       "2022-05-09      1\n",
       "Name: count, Length: 1458, dtype: int64"
      ]
     },
     "execution_count": 46,
     "metadata": {},
     "output_type": "execute_result"
    }
   ],
   "source": [
    "booking_reviewsDF.last_review.value_counts()"
   ]
  },
  {
   "cell_type": "code",
   "execution_count": 47,
   "metadata": {},
   "outputs": [
    {
     "name": "stdout",
     "output_type": "stream",
     "text": [
      "Old shape: (7566, 3)\n",
      "New shape: (6209, 3)\n"
     ]
    }
   ],
   "source": [
    "print(\"Old shape:\", booking_reviewsDF.shape)\n",
    "\n",
    "booking_reviewsDF.dropna(inplace=True)\n",
    "print(\"New shape:\", booking_reviewsDF.shape)"
   ]
  },
  {
   "cell_type": "code",
   "execution_count": 48,
   "metadata": {},
   "outputs": [
    {
     "data": {
      "text/html": [
       "<div>\n",
       "<style scoped>\n",
       "    .dataframe tbody tr th:only-of-type {\n",
       "        vertical-align: middle;\n",
       "    }\n",
       "\n",
       "    .dataframe tbody tr th {\n",
       "        vertical-align: top;\n",
       "    }\n",
       "\n",
       "    .dataframe thead th {\n",
       "        text-align: right;\n",
       "    }\n",
       "</style>\n",
       "<table border=\"1\" class=\"dataframe\">\n",
       "  <thead>\n",
       "    <tr style=\"text-align: right;\">\n",
       "      <th></th>\n",
       "      <th>last_review</th>\n",
       "      <th>availability_365</th>\n",
       "      <th>number_of_reviews</th>\n",
       "    </tr>\n",
       "  </thead>\n",
       "  <tbody>\n",
       "    <tr>\n",
       "      <th>0</th>\n",
       "      <td>2022-09-09</td>\n",
       "      <td>104</td>\n",
       "      <td>258</td>\n",
       "    </tr>\n",
       "    <tr>\n",
       "      <th>1</th>\n",
       "      <td>2022-09-11</td>\n",
       "      <td>110</td>\n",
       "      <td>210</td>\n",
       "    </tr>\n",
       "    <tr>\n",
       "      <th>2</th>\n",
       "      <td>2022-09-01</td>\n",
       "      <td>290</td>\n",
       "      <td>355</td>\n",
       "    </tr>\n",
       "    <tr>\n",
       "      <th>3</th>\n",
       "      <td>2022-08-31</td>\n",
       "      <td>74</td>\n",
       "      <td>326</td>\n",
       "    </tr>\n",
       "    <tr>\n",
       "      <th>4</th>\n",
       "      <td>2022-06-28</td>\n",
       "      <td>31</td>\n",
       "      <td>64</td>\n",
       "    </tr>\n",
       "  </tbody>\n",
       "</table>\n",
       "</div>"
      ],
      "text/plain": [
       "  last_review  availability_365  number_of_reviews\n",
       "0  2022-09-09               104                258\n",
       "1  2022-09-11               110                210\n",
       "2  2022-09-01               290                355\n",
       "3  2022-08-31                74                326\n",
       "4  2022-06-28                31                 64"
      ]
     },
     "execution_count": 48,
     "metadata": {},
     "output_type": "execute_result"
    }
   ],
   "source": [
    "booking_reviewsDF.head()"
   ]
  }
 ],
 "metadata": {
  "kernelspec": {
   "display_name": "Python 3",
   "language": "python",
   "name": "python3"
  },
  "language_info": {
   "codemirror_mode": {
    "name": "ipython",
    "version": 3
   },
   "file_extension": ".py",
   "mimetype": "text/x-python",
   "name": "python",
   "nbconvert_exporter": "python",
   "pygments_lexer": "ipython3",
   "version": "3.12.3"
  }
 },
 "nbformat": 4,
 "nbformat_minor": 2
}
